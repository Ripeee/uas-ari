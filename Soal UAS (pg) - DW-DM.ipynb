{
 "cells": [
  {
   "cell_type": "markdown",
   "id": "39e64349",
   "metadata": {},
   "source": [
    "# <center>UAS (Pagi) : Data Warehouse dan Data Mining</center>\n",
    "\n",
    "- NIM : 2018230186\n",
    "- Nama : Ari Purnomo Aji"
   ]
  },
  {
   "cell_type": "markdown",
   "id": "93d84728",
   "metadata": {},
   "source": [
    "---"
   ]
  },
  {
   "cell_type": "markdown",
   "id": "b75a9c65",
   "metadata": {},
   "source": [
    "# <u>Soal :</u>\n",
    "## <font color=red>Berikut Program membangun model regresi (prediksi pembayaran premi asuransi), koreksi dan lengkapi jika ada yang perlu diperbaiki, simpan hasil/model-nya dan gunakan untuk membangun aplikasi web  dengan framework Flask ke server heroku !</font>"
   ]
  },
  {
   "cell_type": "markdown",
   "id": "4f6b4462",
   "metadata": {},
   "source": [
    "---"
   ]
  },
  {
   "cell_type": "code",
   "execution_count": 1,
   "id": "c89e29e5",
   "metadata": {
    "execution": {
     "iopub.execute_input": "2021-08-16T11:08:34.541163Z",
     "iopub.status.busy": "2021-08-16T11:08:34.540289Z",
     "iopub.status.idle": "2021-08-16T11:08:35.520723Z",
     "shell.execute_reply": "2021-08-16T11:08:35.519833Z",
     "shell.execute_reply.started": "2021-08-16T11:07:29.873925Z"
    },
    "papermill": {
     "duration": 1.020135,
     "end_time": "2021-08-16T11:08:35.520911",
     "exception": false,
     "start_time": "2021-08-16T11:08:34.500776",
     "status": "completed"
    },
    "tags": []
   },
   "outputs": [],
   "source": [
    "import numpy as np\n",
    "import pandas as pd\n",
    "import seaborn as sns\n",
    "import matplotlib.pyplot as plt"
   ]
  },
  {
   "cell_type": "markdown",
   "id": "9a5ebfd6",
   "metadata": {
    "papermill": {
     "duration": 0.040594,
     "end_time": "2021-08-16T11:08:35.598908",
     "exception": false,
     "start_time": "2021-08-16T11:08:35.558314",
     "status": "completed"
    },
    "tags": []
   },
   "source": [
    "### Loading Dataset"
   ]
  },
  {
   "cell_type": "code",
   "execution_count": 8,
   "id": "25b4c8c2",
   "metadata": {
    "execution": {
     "iopub.execute_input": "2021-08-16T11:08:35.667419Z",
     "iopub.status.busy": "2021-08-16T11:08:35.666329Z",
     "iopub.status.idle": "2021-08-16T11:08:35.678479Z",
     "shell.execute_reply": "2021-08-16T11:08:35.677858Z",
     "shell.execute_reply.started": "2021-08-16T11:07:29.883395Z"
    },
    "papermill": {
     "duration": 0.04406,
     "end_time": "2021-08-16T11:08:35.678628",
     "exception": false,
     "start_time": "2021-08-16T11:08:35.634568",
     "status": "completed"
    },
    "tags": []
   },
   "outputs": [
    {
     "data": {
      "text/html": [
       "<div>\n",
       "<style scoped>\n",
       "    .dataframe tbody tr th:only-of-type {\n",
       "        vertical-align: middle;\n",
       "    }\n",
       "\n",
       "    .dataframe tbody tr th {\n",
       "        vertical-align: top;\n",
       "    }\n",
       "\n",
       "    .dataframe thead th {\n",
       "        text-align: right;\n",
       "    }\n",
       "</style>\n",
       "<table border=\"1\" class=\"dataframe\">\n",
       "  <thead>\n",
       "    <tr style=\"text-align: right;\">\n",
       "      <th></th>\n",
       "      <th>age</th>\n",
       "      <th>sex</th>\n",
       "      <th>bmi</th>\n",
       "      <th>children</th>\n",
       "      <th>smoker</th>\n",
       "      <th>region</th>\n",
       "      <th>expenses</th>\n",
       "    </tr>\n",
       "  </thead>\n",
       "  <tbody>\n",
       "    <tr>\n",
       "      <th>0</th>\n",
       "      <td>19</td>\n",
       "      <td>female</td>\n",
       "      <td>27.9</td>\n",
       "      <td>0</td>\n",
       "      <td>yes</td>\n",
       "      <td>southwest</td>\n",
       "      <td>16884.92</td>\n",
       "    </tr>\n",
       "    <tr>\n",
       "      <th>1</th>\n",
       "      <td>18</td>\n",
       "      <td>male</td>\n",
       "      <td>33.8</td>\n",
       "      <td>1</td>\n",
       "      <td>no</td>\n",
       "      <td>southeast</td>\n",
       "      <td>1725.55</td>\n",
       "    </tr>\n",
       "    <tr>\n",
       "      <th>2</th>\n",
       "      <td>28</td>\n",
       "      <td>male</td>\n",
       "      <td>33.0</td>\n",
       "      <td>3</td>\n",
       "      <td>no</td>\n",
       "      <td>southeast</td>\n",
       "      <td>4449.46</td>\n",
       "    </tr>\n",
       "    <tr>\n",
       "      <th>3</th>\n",
       "      <td>33</td>\n",
       "      <td>male</td>\n",
       "      <td>22.7</td>\n",
       "      <td>0</td>\n",
       "      <td>no</td>\n",
       "      <td>northwest</td>\n",
       "      <td>21984.47</td>\n",
       "    </tr>\n",
       "    <tr>\n",
       "      <th>4</th>\n",
       "      <td>32</td>\n",
       "      <td>male</td>\n",
       "      <td>28.9</td>\n",
       "      <td>0</td>\n",
       "      <td>no</td>\n",
       "      <td>northwest</td>\n",
       "      <td>3866.86</td>\n",
       "    </tr>\n",
       "  </tbody>\n",
       "</table>\n",
       "</div>"
      ],
      "text/plain": [
       "   age     sex   bmi  children smoker     region  expenses\n",
       "0   19  female  27.9         0    yes  southwest  16884.92\n",
       "1   18    male  33.8         1     no  southeast   1725.55\n",
       "2   28    male  33.0         3     no  southeast   4449.46\n",
       "3   33    male  22.7         0     no  northwest  21984.47\n",
       "4   32    male  28.9         0     no  northwest   3866.86"
      ]
     },
     "execution_count": 8,
     "metadata": {},
     "output_type": "execute_result"
    }
   ],
   "source": [
    "df = pd.read_csv('insurance1.csv')\n",
    "df.head()"
   ]
  },
  {
   "cell_type": "code",
   "execution_count": 9,
   "id": "c9942d3e",
   "metadata": {
    "execution": {
     "iopub.execute_input": "2021-08-16T11:08:35.886022Z",
     "iopub.status.busy": "2021-08-16T11:08:35.884843Z",
     "iopub.status.idle": "2021-08-16T11:08:35.909619Z",
     "shell.execute_reply": "2021-08-16T11:08:35.909076Z",
     "shell.execute_reply.started": "2021-08-16T11:07:29.948573Z"
    },
    "papermill": {
     "duration": 0.053971,
     "end_time": "2021-08-16T11:08:35.909771",
     "exception": false,
     "start_time": "2021-08-16T11:08:35.855800",
     "status": "completed"
    },
    "tags": []
   },
   "outputs": [
    {
     "name": "stdout",
     "output_type": "stream",
     "text": [
      "<class 'pandas.core.frame.DataFrame'>\n",
      "RangeIndex: 1338 entries, 0 to 1337\n",
      "Data columns (total 7 columns):\n",
      " #   Column    Non-Null Count  Dtype  \n",
      "---  ------    --------------  -----  \n",
      " 0   age       1338 non-null   int64  \n",
      " 1   sex       1338 non-null   object \n",
      " 2   bmi       1338 non-null   float64\n",
      " 3   children  1338 non-null   int64  \n",
      " 4   smoker    1338 non-null   object \n",
      " 5   region    1338 non-null   object \n",
      " 6   expenses  1338 non-null   float64\n",
      "dtypes: float64(2), int64(2), object(3)\n",
      "memory usage: 73.3+ KB\n"
     ]
    }
   ],
   "source": [
    "df.info()"
   ]
  },
  {
   "cell_type": "code",
   "execution_count": 10,
   "id": "0fbc1610",
   "metadata": {
    "execution": {
     "iopub.execute_input": "2021-08-16T11:08:35.972740Z",
     "iopub.status.busy": "2021-08-16T11:08:35.971681Z",
     "iopub.status.idle": "2021-08-16T11:08:36.001255Z",
     "shell.execute_reply": "2021-08-16T11:08:36.001977Z",
     "shell.execute_reply.started": "2021-08-16T11:07:29.971333Z"
    },
    "papermill": {
     "duration": 0.06573,
     "end_time": "2021-08-16T11:08:36.002298",
     "exception": false,
     "start_time": "2021-08-16T11:08:35.936568",
     "status": "completed"
    },
    "tags": []
   },
   "outputs": [
    {
     "data": {
      "text/html": [
       "<div>\n",
       "<style scoped>\n",
       "    .dataframe tbody tr th:only-of-type {\n",
       "        vertical-align: middle;\n",
       "    }\n",
       "\n",
       "    .dataframe tbody tr th {\n",
       "        vertical-align: top;\n",
       "    }\n",
       "\n",
       "    .dataframe thead th {\n",
       "        text-align: right;\n",
       "    }\n",
       "</style>\n",
       "<table border=\"1\" class=\"dataframe\">\n",
       "  <thead>\n",
       "    <tr style=\"text-align: right;\">\n",
       "      <th></th>\n",
       "      <th>age</th>\n",
       "      <th>bmi</th>\n",
       "      <th>children</th>\n",
       "      <th>expenses</th>\n",
       "    </tr>\n",
       "  </thead>\n",
       "  <tbody>\n",
       "    <tr>\n",
       "      <th>count</th>\n",
       "      <td>1338.000000</td>\n",
       "      <td>1338.000000</td>\n",
       "      <td>1338.000000</td>\n",
       "      <td>1338.000000</td>\n",
       "    </tr>\n",
       "    <tr>\n",
       "      <th>mean</th>\n",
       "      <td>39.207025</td>\n",
       "      <td>30.665471</td>\n",
       "      <td>1.094918</td>\n",
       "      <td>13270.422414</td>\n",
       "    </tr>\n",
       "    <tr>\n",
       "      <th>std</th>\n",
       "      <td>14.049960</td>\n",
       "      <td>6.098382</td>\n",
       "      <td>1.205493</td>\n",
       "      <td>12110.011240</td>\n",
       "    </tr>\n",
       "    <tr>\n",
       "      <th>min</th>\n",
       "      <td>18.000000</td>\n",
       "      <td>16.000000</td>\n",
       "      <td>0.000000</td>\n",
       "      <td>1121.870000</td>\n",
       "    </tr>\n",
       "    <tr>\n",
       "      <th>25%</th>\n",
       "      <td>27.000000</td>\n",
       "      <td>26.300000</td>\n",
       "      <td>0.000000</td>\n",
       "      <td>4740.287500</td>\n",
       "    </tr>\n",
       "    <tr>\n",
       "      <th>50%</th>\n",
       "      <td>39.000000</td>\n",
       "      <td>30.400000</td>\n",
       "      <td>1.000000</td>\n",
       "      <td>9382.030000</td>\n",
       "    </tr>\n",
       "    <tr>\n",
       "      <th>75%</th>\n",
       "      <td>51.000000</td>\n",
       "      <td>34.700000</td>\n",
       "      <td>2.000000</td>\n",
       "      <td>16639.915000</td>\n",
       "    </tr>\n",
       "    <tr>\n",
       "      <th>max</th>\n",
       "      <td>64.000000</td>\n",
       "      <td>53.100000</td>\n",
       "      <td>5.000000</td>\n",
       "      <td>63770.430000</td>\n",
       "    </tr>\n",
       "  </tbody>\n",
       "</table>\n",
       "</div>"
      ],
      "text/plain": [
       "               age          bmi     children      expenses\n",
       "count  1338.000000  1338.000000  1338.000000   1338.000000\n",
       "mean     39.207025    30.665471     1.094918  13270.422414\n",
       "std      14.049960     6.098382     1.205493  12110.011240\n",
       "min      18.000000    16.000000     0.000000   1121.870000\n",
       "25%      27.000000    26.300000     0.000000   4740.287500\n",
       "50%      39.000000    30.400000     1.000000   9382.030000\n",
       "75%      51.000000    34.700000     2.000000  16639.915000\n",
       "max      64.000000    53.100000     5.000000  63770.430000"
      ]
     },
     "execution_count": 10,
     "metadata": {},
     "output_type": "execute_result"
    }
   ],
   "source": [
    "df.describe()"
   ]
  },
  {
   "cell_type": "code",
   "execution_count": 11,
   "id": "e236d13c",
   "metadata": {
    "execution": {
     "iopub.execute_input": "2021-08-16T11:08:36.070730Z",
     "iopub.status.busy": "2021-08-16T11:08:36.069807Z",
     "iopub.status.idle": "2021-08-16T11:08:36.074239Z",
     "shell.execute_reply": "2021-08-16T11:08:36.074698Z",
     "shell.execute_reply.started": "2021-08-16T11:07:30.010418Z"
    },
    "papermill": {
     "duration": 0.040857,
     "end_time": "2021-08-16T11:08:36.074877",
     "exception": false,
     "start_time": "2021-08-16T11:08:36.034020",
     "status": "completed"
    },
    "tags": []
   },
   "outputs": [
    {
     "data": {
      "text/plain": [
       "age         0\n",
       "sex         0\n",
       "bmi         0\n",
       "children    0\n",
       "smoker      0\n",
       "region      0\n",
       "expenses    0\n",
       "dtype: int64"
      ]
     },
     "execution_count": 11,
     "metadata": {},
     "output_type": "execute_result"
    }
   ],
   "source": [
    "df.isna().sum()"
   ]
  },
  {
   "cell_type": "markdown",
   "id": "b7b9f89c",
   "metadata": {},
   "source": [
    "### Data Preparation - Mengubah data categorical ke numeric"
   ]
  },
  {
   "cell_type": "code",
   "execution_count": 13,
   "id": "50e1a0fd",
   "metadata": {
    "execution": {
     "iopub.execute_input": "2021-08-16T11:08:36.191843Z",
     "iopub.status.busy": "2021-08-16T11:08:36.191211Z",
     "iopub.status.idle": "2021-08-16T11:08:36.321684Z",
     "shell.execute_reply": "2021-08-16T11:08:36.320977Z",
     "shell.execute_reply.started": "2021-08-16T11:07:30.021843Z"
    },
    "papermill": {
     "duration": 0.165585,
     "end_time": "2021-08-16T11:08:36.321834",
     "exception": false,
     "start_time": "2021-08-16T11:08:36.156249",
     "status": "completed"
    },
    "tags": []
   },
   "outputs": [],
   "source": [
    "from sklearn.preprocessing import OrdinalEncoder\n",
    "oe=OrdinalEncoder()\n",
    "df[['sex','smoker','region']]=oe.fit_transform(df[['sex','smoker','region']])\n",
    "df[['sex','smoker']]=oe.fit_transform(df[['sex','smoker']])"
   ]
  },
  {
   "cell_type": "code",
   "execution_count": 14,
   "id": "ef3cbaff",
   "metadata": {
    "execution": {
     "iopub.execute_input": "2021-08-16T11:08:36.385381Z",
     "iopub.status.busy": "2021-08-16T11:08:36.384723Z",
     "iopub.status.idle": "2021-08-16T11:08:36.388198Z",
     "shell.execute_reply": "2021-08-16T11:08:36.387614Z",
     "shell.execute_reply.started": "2021-08-16T11:07:30.175071Z"
    },
    "papermill": {
     "duration": 0.039618,
     "end_time": "2021-08-16T11:08:36.388340",
     "exception": false,
     "start_time": "2021-08-16T11:08:36.348722",
     "status": "completed"
    },
    "tags": []
   },
   "outputs": [],
   "source": [
    "df[['sex','smoker','region']]=df[['sex','smoker','region']].astype(int)\n",
    "df[['sex','smoker']]=df[['sex','smoker']].astype(int)"
   ]
  },
  {
   "cell_type": "code",
   "execution_count": 15,
   "id": "9cf2b853",
   "metadata": {
    "execution": {
     "iopub.execute_input": "2021-08-16T11:08:36.457523Z",
     "iopub.status.busy": "2021-08-16T11:08:36.455951Z",
     "iopub.status.idle": "2021-08-16T11:08:36.459749Z",
     "shell.execute_reply": "2021-08-16T11:08:36.460265Z",
     "shell.execute_reply.started": "2021-08-16T11:07:30.184889Z"
    },
    "papermill": {
     "duration": 0.044342,
     "end_time": "2021-08-16T11:08:36.460463",
     "exception": false,
     "start_time": "2021-08-16T11:08:36.416121",
     "status": "completed"
    },
    "tags": []
   },
   "outputs": [
    {
     "data": {
      "text/html": [
       "<div>\n",
       "<style scoped>\n",
       "    .dataframe tbody tr th:only-of-type {\n",
       "        vertical-align: middle;\n",
       "    }\n",
       "\n",
       "    .dataframe tbody tr th {\n",
       "        vertical-align: top;\n",
       "    }\n",
       "\n",
       "    .dataframe thead th {\n",
       "        text-align: right;\n",
       "    }\n",
       "</style>\n",
       "<table border=\"1\" class=\"dataframe\">\n",
       "  <thead>\n",
       "    <tr style=\"text-align: right;\">\n",
       "      <th></th>\n",
       "      <th>age</th>\n",
       "      <th>sex</th>\n",
       "      <th>bmi</th>\n",
       "      <th>children</th>\n",
       "      <th>smoker</th>\n",
       "      <th>region</th>\n",
       "      <th>expenses</th>\n",
       "    </tr>\n",
       "  </thead>\n",
       "  <tbody>\n",
       "    <tr>\n",
       "      <th>0</th>\n",
       "      <td>19</td>\n",
       "      <td>0</td>\n",
       "      <td>27.9</td>\n",
       "      <td>0</td>\n",
       "      <td>1</td>\n",
       "      <td>3</td>\n",
       "      <td>16884.92</td>\n",
       "    </tr>\n",
       "    <tr>\n",
       "      <th>1</th>\n",
       "      <td>18</td>\n",
       "      <td>1</td>\n",
       "      <td>33.8</td>\n",
       "      <td>1</td>\n",
       "      <td>0</td>\n",
       "      <td>2</td>\n",
       "      <td>1725.55</td>\n",
       "    </tr>\n",
       "    <tr>\n",
       "      <th>2</th>\n",
       "      <td>28</td>\n",
       "      <td>1</td>\n",
       "      <td>33.0</td>\n",
       "      <td>3</td>\n",
       "      <td>0</td>\n",
       "      <td>2</td>\n",
       "      <td>4449.46</td>\n",
       "    </tr>\n",
       "    <tr>\n",
       "      <th>3</th>\n",
       "      <td>33</td>\n",
       "      <td>1</td>\n",
       "      <td>22.7</td>\n",
       "      <td>0</td>\n",
       "      <td>0</td>\n",
       "      <td>1</td>\n",
       "      <td>21984.47</td>\n",
       "    </tr>\n",
       "    <tr>\n",
       "      <th>4</th>\n",
       "      <td>32</td>\n",
       "      <td>1</td>\n",
       "      <td>28.9</td>\n",
       "      <td>0</td>\n",
       "      <td>0</td>\n",
       "      <td>1</td>\n",
       "      <td>3866.86</td>\n",
       "    </tr>\n",
       "  </tbody>\n",
       "</table>\n",
       "</div>"
      ],
      "text/plain": [
       "   age  sex   bmi  children  smoker  region  expenses\n",
       "0   19    0  27.9         0       1       3  16884.92\n",
       "1   18    1  33.8         1       0       2   1725.55\n",
       "2   28    1  33.0         3       0       2   4449.46\n",
       "3   33    1  22.7         0       0       1  21984.47\n",
       "4   32    1  28.9         0       0       1   3866.86"
      ]
     },
     "execution_count": 15,
     "metadata": {},
     "output_type": "execute_result"
    }
   ],
   "source": [
    "df.head()"
   ]
  },
  {
   "cell_type": "code",
   "execution_count": 16,
   "id": "ed5a38e6",
   "metadata": {
    "execution": {
     "iopub.execute_input": "2021-08-16T11:08:36.523744Z",
     "iopub.status.busy": "2021-08-16T11:08:36.523060Z",
     "iopub.status.idle": "2021-08-16T11:08:36.527345Z",
     "shell.execute_reply": "2021-08-16T11:08:36.526770Z",
     "shell.execute_reply.started": "2021-08-16T11:07:30.205757Z"
    },
    "papermill": {
     "duration": 0.038102,
     "end_time": "2021-08-16T11:08:36.527501",
     "exception": false,
     "start_time": "2021-08-16T11:08:36.489399",
     "status": "completed"
    },
    "tags": []
   },
   "outputs": [
    {
     "data": {
      "text/plain": [
       "Index(['age', 'sex', 'bmi', 'children', 'smoker', 'region', 'expenses'], dtype='object')"
      ]
     },
     "execution_count": 16,
     "metadata": {},
     "output_type": "execute_result"
    }
   ],
   "source": [
    "df.columns"
   ]
  },
  {
   "cell_type": "markdown",
   "id": "047238b9",
   "metadata": {
    "papermill": {
     "duration": 0.043948,
     "end_time": "2021-08-16T11:08:50.888055",
     "exception": false,
     "start_time": "2021-08-16T11:08:50.844107",
     "status": "completed"
    },
    "tags": []
   },
   "source": [
    "### Memisah Feature dan Label"
   ]
  },
  {
   "cell_type": "code",
   "execution_count": 19,
   "id": "a713092d",
   "metadata": {
    "execution": {
     "iopub.execute_input": "2021-08-16T11:08:50.982142Z",
     "iopub.status.busy": "2021-08-16T11:08:50.981434Z",
     "iopub.status.idle": "2021-08-16T11:08:50.984915Z",
     "shell.execute_reply": "2021-08-16T11:08:50.984422Z",
     "shell.execute_reply.started": "2021-08-16T11:07:43.122306Z"
    },
    "papermill": {
     "duration": 0.053915,
     "end_time": "2021-08-16T11:08:50.985104",
     "exception": false,
     "start_time": "2021-08-16T11:08:50.931189",
     "status": "completed"
    },
    "tags": []
   },
   "outputs": [],
   "source": [
    "target=df['children']\n",
    "features=df.drop(columns=['children'])"
   ]
  },
  {
   "cell_type": "code",
   "execution_count": 20,
   "id": "7cb18038",
   "metadata": {
    "execution": {
     "iopub.execute_input": "2021-08-16T11:08:51.080285Z",
     "iopub.status.busy": "2021-08-16T11:08:51.079553Z",
     "iopub.status.idle": "2021-08-16T11:08:51.086342Z",
     "shell.execute_reply": "2021-08-16T11:08:51.085443Z",
     "shell.execute_reply.started": "2021-08-16T11:07:43.128164Z"
    },
    "papermill": {
     "duration": 0.058302,
     "end_time": "2021-08-16T11:08:51.086514",
     "exception": false,
     "start_time": "2021-08-16T11:08:51.028212",
     "status": "completed"
    },
    "tags": []
   },
   "outputs": [],
   "source": [
    "#Standardization\n",
    "from sklearn.preprocessing import StandardScaler\n",
    "sc=StandardScaler()\n",
    "features=sc.fit_transform(features)"
   ]
  },
  {
   "cell_type": "code",
   "execution_count": 21,
   "id": "7370fef3",
   "metadata": {
    "execution": {
     "iopub.execute_input": "2021-08-16T11:08:51.188536Z",
     "iopub.status.busy": "2021-08-16T11:08:51.187540Z",
     "iopub.status.idle": "2021-08-16T11:08:51.192222Z",
     "shell.execute_reply": "2021-08-16T11:08:51.191557Z",
     "shell.execute_reply.started": "2021-08-16T11:07:43.149451Z"
    },
    "papermill": {
     "duration": 0.061061,
     "end_time": "2021-08-16T11:08:51.192379",
     "exception": false,
     "start_time": "2021-08-16T11:08:51.131318",
     "status": "completed"
    },
    "tags": []
   },
   "outputs": [
    {
     "data": {
      "text/html": [
       "<div>\n",
       "<style scoped>\n",
       "    .dataframe tbody tr th:only-of-type {\n",
       "        vertical-align: middle;\n",
       "    }\n",
       "\n",
       "    .dataframe tbody tr th {\n",
       "        vertical-align: top;\n",
       "    }\n",
       "\n",
       "    .dataframe thead th {\n",
       "        text-align: right;\n",
       "    }\n",
       "</style>\n",
       "<table border=\"1\" class=\"dataframe\">\n",
       "  <thead>\n",
       "    <tr style=\"text-align: right;\">\n",
       "      <th></th>\n",
       "      <th>0</th>\n",
       "      <th>1</th>\n",
       "      <th>2</th>\n",
       "      <th>3</th>\n",
       "      <th>4</th>\n",
       "      <th>5</th>\n",
       "    </tr>\n",
       "  </thead>\n",
       "  <tbody>\n",
       "    <tr>\n",
       "      <th>0</th>\n",
       "      <td>-1.438764</td>\n",
       "      <td>-1.010519</td>\n",
       "      <td>-0.453646</td>\n",
       "      <td>1.970587</td>\n",
       "      <td>1.343905</td>\n",
       "      <td>0.298583</td>\n",
       "    </tr>\n",
       "    <tr>\n",
       "      <th>1</th>\n",
       "      <td>-1.509965</td>\n",
       "      <td>0.989591</td>\n",
       "      <td>0.514186</td>\n",
       "      <td>-0.507463</td>\n",
       "      <td>0.438495</td>\n",
       "      <td>-0.953689</td>\n",
       "    </tr>\n",
       "    <tr>\n",
       "      <th>2</th>\n",
       "      <td>-0.797954</td>\n",
       "      <td>0.989591</td>\n",
       "      <td>0.382954</td>\n",
       "      <td>-0.507463</td>\n",
       "      <td>0.438495</td>\n",
       "      <td>-0.728675</td>\n",
       "    </tr>\n",
       "    <tr>\n",
       "      <th>3</th>\n",
       "      <td>-0.441948</td>\n",
       "      <td>0.989591</td>\n",
       "      <td>-1.306650</td>\n",
       "      <td>-0.507463</td>\n",
       "      <td>-0.466915</td>\n",
       "      <td>0.719843</td>\n",
       "    </tr>\n",
       "    <tr>\n",
       "      <th>4</th>\n",
       "      <td>-0.513149</td>\n",
       "      <td>0.989591</td>\n",
       "      <td>-0.289606</td>\n",
       "      <td>-0.507463</td>\n",
       "      <td>-0.466915</td>\n",
       "      <td>-0.776802</td>\n",
       "    </tr>\n",
       "  </tbody>\n",
       "</table>\n",
       "</div>"
      ],
      "text/plain": [
       "          0         1         2         3         4         5\n",
       "0 -1.438764 -1.010519 -0.453646  1.970587  1.343905  0.298583\n",
       "1 -1.509965  0.989591  0.514186 -0.507463  0.438495 -0.953689\n",
       "2 -0.797954  0.989591  0.382954 -0.507463  0.438495 -0.728675\n",
       "3 -0.441948  0.989591 -1.306650 -0.507463 -0.466915  0.719843\n",
       "4 -0.513149  0.989591 -0.289606 -0.507463 -0.466915 -0.776802"
      ]
     },
     "execution_count": 21,
     "metadata": {},
     "output_type": "execute_result"
    }
   ],
   "source": [
    "pd.DataFrame(features[:5])"
   ]
  },
  {
   "cell_type": "markdown",
   "id": "c1d9d7ca",
   "metadata": {
    "papermill": {
     "duration": 0.044206,
     "end_time": "2021-08-16T11:08:51.281618",
     "exception": false,
     "start_time": "2021-08-16T11:08:51.237412",
     "status": "completed"
    },
    "tags": []
   },
   "source": [
    "### Membangun Model"
   ]
  },
  {
   "cell_type": "code",
   "execution_count": 22,
   "id": "b68f65a3",
   "metadata": {
    "execution": {
     "iopub.execute_input": "2021-08-16T11:08:51.375924Z",
     "iopub.status.busy": "2021-08-16T11:08:51.374934Z",
     "iopub.status.idle": "2021-08-16T11:08:51.522644Z",
     "shell.execute_reply": "2021-08-16T11:08:51.521875Z",
     "shell.execute_reply.started": "2021-08-16T11:07:43.167949Z"
    },
    "papermill": {
     "duration": 0.19556,
     "end_time": "2021-08-16T11:08:51.522815",
     "exception": false,
     "start_time": "2021-08-16T11:08:51.327255",
     "status": "completed"
    },
    "tags": []
   },
   "outputs": [],
   "source": [
    "from sklearn.model_selection import train_test_split\n",
    "from sklearn.linear_model import LinearRegression"
   ]
  },
  {
   "cell_type": "code",
   "execution_count": 23,
   "id": "5e7a7537",
   "metadata": {
    "execution": {
     "iopub.execute_input": "2021-08-16T11:08:51.619906Z",
     "iopub.status.busy": "2021-08-16T11:08:51.618915Z",
     "iopub.status.idle": "2021-08-16T11:08:51.622102Z",
     "shell.execute_reply": "2021-08-16T11:08:51.621524Z",
     "shell.execute_reply.started": "2021-08-16T11:07:43.513250Z"
    },
    "papermill": {
     "duration": 0.055111,
     "end_time": "2021-08-16T11:08:51.622257",
     "exception": false,
     "start_time": "2021-08-16T11:08:51.567146",
     "status": "completed"
    },
    "tags": []
   },
   "outputs": [],
   "source": [
    "x_train,x_test,y_train,y_test=train_test_split(features,target,shuffle=True,train_size=0.8,random_state=1)"
   ]
  },
  {
   "cell_type": "code",
   "execution_count": 24,
   "id": "0051abed",
   "metadata": {
    "execution": {
     "iopub.execute_input": "2021-08-16T11:08:51.715758Z",
     "iopub.status.busy": "2021-08-16T11:08:51.714883Z",
     "iopub.status.idle": "2021-08-16T11:08:51.719198Z",
     "shell.execute_reply": "2021-08-16T11:08:51.719686Z",
     "shell.execute_reply.started": "2021-08-16T11:07:43.523022Z"
    },
    "papermill": {
     "duration": 0.05331,
     "end_time": "2021-08-16T11:08:51.719861",
     "exception": false,
     "start_time": "2021-08-16T11:08:51.666551",
     "status": "completed"
    },
    "tags": []
   },
   "outputs": [
    {
     "data": {
      "text/plain": [
       "1070"
      ]
     },
     "execution_count": 24,
     "metadata": {},
     "output_type": "execute_result"
    }
   ],
   "source": [
    "len(x_train)"
   ]
  },
  {
   "cell_type": "code",
   "execution_count": 25,
   "id": "218f4d75",
   "metadata": {
    "execution": {
     "iopub.execute_input": "2021-08-16T11:08:51.814466Z",
     "iopub.status.busy": "2021-08-16T11:08:51.813796Z",
     "iopub.status.idle": "2021-08-16T11:08:51.817717Z",
     "shell.execute_reply": "2021-08-16T11:08:51.818208Z",
     "shell.execute_reply.started": "2021-08-16T11:07:43.535928Z"
    },
    "papermill": {
     "duration": 0.054298,
     "end_time": "2021-08-16T11:08:51.818404",
     "exception": false,
     "start_time": "2021-08-16T11:08:51.764106",
     "status": "completed"
    },
    "tags": []
   },
   "outputs": [
    {
     "data": {
      "text/plain": [
       "268"
      ]
     },
     "execution_count": 25,
     "metadata": {},
     "output_type": "execute_result"
    }
   ],
   "source": [
    "len(x_test)"
   ]
  },
  {
   "cell_type": "code",
   "execution_count": 26,
   "id": "71077bb4",
   "metadata": {
    "execution": {
     "iopub.execute_input": "2021-08-16T11:08:52.108424Z",
     "iopub.status.busy": "2021-08-16T11:08:52.046443Z",
     "iopub.status.idle": "2021-08-16T11:08:52.115186Z",
     "shell.execute_reply": "2021-08-16T11:08:52.114529Z",
     "shell.execute_reply.started": "2021-08-16T11:07:43.550267Z"
    },
    "papermill": {
     "duration": 0.252246,
     "end_time": "2021-08-16T11:08:52.115367",
     "exception": false,
     "start_time": "2021-08-16T11:08:51.863121",
     "status": "completed"
    },
    "tags": []
   },
   "outputs": [
    {
     "data": {
      "text/plain": [
       "LinearRegression()"
      ]
     },
     "execution_count": 26,
     "metadata": {},
     "output_type": "execute_result"
    }
   ],
   "source": [
    "model_uas=LinearRegression()\n",
    "model_uas.fit(x_train,y_train)"
   ]
  },
  {
   "cell_type": "markdown",
   "id": "b47f6640",
   "metadata": {},
   "source": [
    "### Evaluasi"
   ]
  },
  {
   "cell_type": "code",
   "execution_count": 27,
   "id": "0747be95",
   "metadata": {
    "execution": {
     "iopub.execute_input": "2021-08-16T11:08:52.210668Z",
     "iopub.status.busy": "2021-08-16T11:08:52.210039Z",
     "iopub.status.idle": "2021-08-16T11:08:52.218839Z",
     "shell.execute_reply": "2021-08-16T11:08:52.218222Z",
     "shell.execute_reply.started": "2021-08-16T11:07:43.744728Z"
    },
    "papermill": {
     "duration": 0.058566,
     "end_time": "2021-08-16T11:08:52.218975",
     "exception": false,
     "start_time": "2021-08-16T11:08:52.160409",
     "status": "completed"
    },
    "tags": []
   },
   "outputs": [
    {
     "name": "stdout",
     "output_type": "stream",
     "text": [
      "r2 score : 0.014024890952027858\n",
      "MSE : 1.4078396818391454\n"
     ]
    }
   ],
   "source": [
    "from sklearn.metrics import r2_score,mean_squared_error\n",
    "pred=model_uas.predict(x_test)\n",
    "print('r2 score :',r2_score(y_test,pred))\n",
    "print('MSE :',mean_squared_error(y_test,pred))"
   ]
  },
  {
   "cell_type": "code",
   "execution_count": 28,
   "id": "193dbf46",
   "metadata": {
    "execution": {
     "iopub.execute_input": "2021-08-16T11:08:52.315712Z",
     "iopub.status.busy": "2021-08-16T11:08:52.315080Z",
     "iopub.status.idle": "2021-08-16T11:08:52.319889Z",
     "shell.execute_reply": "2021-08-16T11:08:52.320480Z",
     "shell.execute_reply.started": "2021-08-16T11:07:43.755425Z"
    },
    "papermill": {
     "duration": 0.057086,
     "end_time": "2021-08-16T11:08:52.320710",
     "exception": false,
     "start_time": "2021-08-16T11:08:52.263624",
     "status": "completed"
    },
    "tags": []
   },
   "outputs": [
    {
     "name": "stdout",
     "output_type": "stream",
     "text": [
      "[1.02483227 1.13002587 1.11322997 1.05021467 1.18758147]\n",
      "559     0\n",
      "1087    0\n",
      "1020    0\n",
      "460     3\n",
      "802     1\n",
      "Name: children, dtype: int64\n"
     ]
    }
   ],
   "source": [
    "print(pred[:5])\n",
    "print(y_test[:5])"
   ]
  },
  {
   "cell_type": "code",
   "execution_count": 29,
   "id": "895bd809",
   "metadata": {
    "scrolled": false
   },
   "outputs": [
    {
     "data": {
      "text/plain": [
       "(268, 6)"
      ]
     },
     "execution_count": 29,
     "metadata": {},
     "output_type": "execute_result"
    }
   ],
   "source": [
    "x_test.shape"
   ]
  },
  {
   "cell_type": "code",
   "execution_count": 30,
   "id": "edff0b4d",
   "metadata": {},
   "outputs": [
    {
     "data": {
      "text/plain": [
       "numpy.ndarray"
      ]
     },
     "execution_count": 30,
     "metadata": {},
     "output_type": "execute_result"
    }
   ],
   "source": [
    "type(x_test)"
   ]
  },
  {
   "cell_type": "code",
   "execution_count": 31,
   "id": "f6e98637",
   "metadata": {
    "scrolled": false
   },
   "outputs": [
    {
     "data": {
      "text/plain": [
       "array([-1.43876426,  0.98959079,  0.79305243, -0.5074631 , -0.46691549,\n",
       "       -0.96022526])"
      ]
     },
     "execution_count": 31,
     "metadata": {},
     "output_type": "execute_result"
    }
   ],
   "source": [
    "x_test[0,:]"
   ]
  },
  {
   "cell_type": "markdown",
   "id": "673eb316",
   "metadata": {},
   "source": [
    "### Menyimpan Model untuk Deployment"
   ]
  },
  {
   "cell_type": "markdown",
   "id": "4458a393",
   "metadata": {},
   "source": [
    "Install pickle jika belum ada\n",
    "\n",
    "  !pip install pickle-mixin"
   ]
  },
  {
   "cell_type": "code",
   "execution_count": 2,
   "id": "0e43ab5a",
   "metadata": {},
   "outputs": [
    {
     "ename": "NameError",
     "evalue": "name 'model_uas' is not defined",
     "output_type": "error",
     "traceback": [
      "\u001b[1;31m---------------------------------------------------------------------------\u001b[0m",
      "\u001b[1;31mNameError\u001b[0m                                 Traceback (most recent call last)",
      "\u001b[1;32mC:\\Users\\SRIWAH~1\\AppData\\Local\\Temp/ipykernel_24884/747741782.py\u001b[0m in \u001b[0;36m<module>\u001b[1;34m\u001b[0m\n\u001b[0;32m      1\u001b[0m \u001b[1;32mimport\u001b[0m \u001b[0mpickle\u001b[0m\u001b[1;33m\u001b[0m\u001b[1;33m\u001b[0m\u001b[0m\n\u001b[0;32m      2\u001b[0m \u001b[1;33m\u001b[0m\u001b[0m\n\u001b[1;32m----> 3\u001b[1;33m \u001b[0mpickle\u001b[0m\u001b[1;33m.\u001b[0m\u001b[0mdump\u001b[0m\u001b[1;33m(\u001b[0m\u001b[0mmodel_uas\u001b[0m\u001b[1;33m,\u001b[0m\u001b[0mopen\u001b[0m\u001b[1;33m(\u001b[0m\u001b[1;34m'model_uas.pkl'\u001b[0m\u001b[1;33m,\u001b[0m\u001b[1;34m'wb'\u001b[0m\u001b[1;33m)\u001b[0m\u001b[1;33m)\u001b[0m\u001b[1;33m\u001b[0m\u001b[1;33m\u001b[0m\u001b[0m\n\u001b[0m",
      "\u001b[1;31mNameError\u001b[0m: name 'model_uas' is not defined"
     ]
    }
   ],
   "source": [
    "import pickle\n",
    "\n",
    "pickle.dump(model_uas,open('model_uas.pkl','wb'))"
   ]
  },
  {
   "cell_type": "markdown",
   "id": "f9bc5314",
   "metadata": {},
   "source": [
    "Cek file model_uas.pkl, dan gunakan sebagai model saat membangun aplikasi web berbasis Flask"
   ]
  },
  {
   "cell_type": "markdown",
   "id": "bcaed454",
   "metadata": {},
   "source": [
    "---\n",
    "### Clue \n",
    "Untuk membangun model ini ke aplikasi web Flask server heroku :\n",
    "- Model terdiri dari 5 atribut input dan 1 output : \n",
    "\n",
    "  INPUT :\n",
    "  - 'age', umur\n",
    "  - 'sex',  jenis kelamin\n",
    "  - 'bmi',  berat\n",
    "  - 'children',  jumlah anak\n",
    "  - 'smoker',  perokok atau tidak\n",
    "  \n",
    "  OUTPUT\n",
    "  - charges, besar iuran asuransi per bulan\n",
    "  "
   ]
  },
  {
   "cell_type": "code",
   "execution_count": 33,
   "id": "3fb2f2cb",
   "metadata": {},
   "outputs": [
    {
     "data": {
      "text/plain": [
       "array([[27,  1, 30,  5,  0]])"
      ]
     },
     "execution_count": 33,
     "metadata": {},
     "output_type": "execute_result"
    }
   ],
   "source": [
    "#Contoh penggunaan \n",
    "age=27\n",
    "sex=1\n",
    "bmi=30\n",
    "children=5\n",
    "smoker=0\n",
    "X=np.array([age,sex, bmi, children, smoker])\n",
    "X=X.reshape(1,-1)\n",
    "X"
   ]
  },
  {
   "cell_type": "code",
   "execution_count": 34,
   "id": "99f0cbec",
   "metadata": {},
   "outputs": [
    {
     "data": {
      "text/plain": [
       "(1, 5)"
      ]
     },
     "execution_count": 34,
     "metadata": {},
     "output_type": "execute_result"
    }
   ],
   "source": [
    "X.shape"
   ]
  },
  {
   "cell_type": "code",
   "execution_count": 1,
   "id": "9fbfb6e7",
   "metadata": {},
   "outputs": [
    {
     "ename": "NameError",
     "evalue": "name 'model_uas' is not defined",
     "output_type": "error",
     "traceback": [
      "\u001b[1;31m---------------------------------------------------------------------------\u001b[0m",
      "\u001b[1;31mNameError\u001b[0m                                 Traceback (most recent call last)",
      "Input \u001b[1;32mIn [1]\u001b[0m, in \u001b[0;36m<module>\u001b[1;34m\u001b[0m\n\u001b[1;32m----> 1\u001b[0m charger_pred\u001b[38;5;241m=\u001b[39m\u001b[43mmodel_uas\u001b[49m\u001b[38;5;241m.\u001b[39mpredict(X)\n",
      "\u001b[1;31mNameError\u001b[0m: name 'model_uas' is not defined"
     ]
    }
   ],
   "source": [
    "charger_pred=model_uas.predict(X)"
   ]
  },
  {
   "cell_type": "code",
   "execution_count": 36,
   "id": "3b220210",
   "metadata": {},
   "outputs": [
    {
     "ename": "NameError",
     "evalue": "name 'charger_pred' is not defined",
     "output_type": "error",
     "traceback": [
      "\u001b[1;31m---------------------------------------------------------------------------\u001b[0m",
      "\u001b[1;31mNameError\u001b[0m                                 Traceback (most recent call last)",
      "\u001b[1;32mC:\\Users\\SRIWAH~1\\AppData\\Local\\Temp/ipykernel_20084/284584450.py\u001b[0m in \u001b[0;36m<module>\u001b[1;34m\u001b[0m\n\u001b[1;32m----> 1\u001b[1;33m \u001b[0mprint\u001b[0m\u001b[1;33m(\u001b[0m\u001b[1;34m\"Prediksi Pembayaran premi : \"\u001b[0m\u001b[1;33m,\u001b[0m\u001b[0mcharger_pred\u001b[0m\u001b[1;33m)\u001b[0m\u001b[1;33m\u001b[0m\u001b[1;33m\u001b[0m\u001b[0m\n\u001b[0m",
      "\u001b[1;31mNameError\u001b[0m: name 'charger_pred' is not defined"
     ]
    }
   ],
   "source": [
    "print(\"Prediksi Pembayaran premi : \",charger_pred)"
   ]
  },
  {
   "cell_type": "code",
   "execution_count": null,
   "id": "db65659f",
   "metadata": {},
   "outputs": [],
   "source": []
  }
 ],
 "metadata": {
  "kernelspec": {
   "display_name": "Python 3 (ipykernel)",
   "language": "python",
   "name": "python3"
  },
  "language_info": {
   "codemirror_mode": {
    "name": "ipython",
    "version": 3
   },
   "file_extension": ".py",
   "mimetype": "text/x-python",
   "name": "python",
   "nbconvert_exporter": "python",
   "pygments_lexer": "ipython3",
   "version": "3.8.12"
  },
  "papermill": {
   "default_parameters": {},
   "duration": 27.884539,
   "end_time": "2021-08-16T11:08:53.873893",
   "environment_variables": {},
   "exception": null,
   "input_path": "__notebook__.ipynb",
   "output_path": "__notebook__.ipynb",
   "parameters": {},
   "start_time": "2021-08-16T11:08:25.989354",
   "version": "2.3.3"
  }
 },
 "nbformat": 4,
 "nbformat_minor": 5
}
